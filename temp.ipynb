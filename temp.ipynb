# -*- coding: utf-8 -*-
"""
Spyder Editor

This is a temporary script file.
"""
#Pre-game creation of common libraries and variables 
#For example 
#P1 = Player 1 
#List 1: Some beneficial outcomes, some wacky outcomes, some end scenarios
#List 2: Some negative outcomes, some wacky outcomes, some end scenarios

#Title Card 
#The Opening game title 

print("Welcome to the Hertie School, the University of Governance in Berlin!") 

print("\nWe hope you've packed your bags, because this will be a buuuuumpy ride!")

input("Press the Enter Key to continue")

#Game Rules 
print("So here are the rules of the game")

print("\nGame Rule 1")

print("\nGame Rule 2")

print("\nGame Rule 3")

print("\nGame Rule 4")

print("\nGame Rule 5")

P1_name = input(prompt = "So, what's your name? ")

print("\nHi there", ",", P1_name, "!")

input("\nPress the Enter Key to continue")

#Player Introduction 
#Here the player rolls a dice/is randomly assigned a counter/is told which 
#country they are, what assets they have etc.
P1_money = 100
P1_time = 100
P1_connections = 100
P1_country = "India"

print("Okay", P1_name, ",", "you are a player from", P1_country)

print("\nYou currently have", P1_money, "units of money", ",", P1_time, "units of time","and", P1_connections, "units of connections to spend")

input("\nPress the Enter Key to start working on your first milestone!")

#Visa milestone 
print("Milestone 1: Visa")

print("\nYour first task: Get the temporary visa to enter Germany")

print("\nWhat's a temporary visa you ask?")
#Here we also print a definition of the visa
#Then we print the required documents based on the country the player is from
print("\nA temporary visa is____")

print("\nTo get a temporary visa, you have to get ______")
 
input("\nPress the Enter Key to continue")
 
P1_dice_rolls = 0
P1_dice_value = 0

print("You are now standing in the line at the embassy at New Delhi")
print("\nAre you ready? Roll the dice!")

input("Press the Enter Key to continue")

import random 
P1_dice_roll = random.randint(1,6)



print("\nYou have rolled", P1_dice_value, ".", "Hmmm")
#Here we insert the if code. Outcomes depend on which number players roll
#Not sure if we should use if or while here 


#If the player rolls 1 or 2 : They get a random outcome from a library 
if P1_dice_value == 1 or P1_dice_value == 2:
    print("We will check the outcome from List 1")


#If the player rolls 3 or 4 : They get a random outcome from a library 
elif P1_dice_value == 3 or P1_dice_value == 4:
    print("We will check the outcome from List 2")


#If the player rolls 5 or 6 : They proceed
else:
    print("You got your visa. Onwards and upwards!")
    
input("Press the Enter Key to continue")


game_end = input(prompt = "Do you want to end the game? Enter 0 for no and 1 for yes")

#Look at the concepts from the session on Flow to figure this out                



#Flight and customs 
print("\nMilestone 2: Flight")




#City Registration 
print("\nMilestone 3: City Registration")




#Residence Permit 
print("\nMilestone 4: Residence Permit")




#Game End 

print("\nCongratulations! You won the game in", P1_dice_rolls, "rolls of the dice")
print("\nOn average, it takes a person XYZ number of days to complete the process")
print("\nKeep playing the game to discover other ways it may end!")
input("\nPress the Enter Key to continue")

#Game Credits 
print("\nGame Credits")
print("\nBrought to you by Coco, Paula, Charumati and Ba Linh")
print("\nWith Special Thanks to Hannah and Huy")
print("\nInspired by - Monopoly, Game of Life, Choose-your-own-adventure books, Papers Please")
print("\nSources : ______")
input("\nPress Enter Key to finish. Auf wiedersehen!")




#Our questions for Hannah
'''
Should a person be able to decide how many units they want to spend or shall we assign the 'costs' of an action? 
Is there a better way of integrating the code for other players without duplicating it over? 
Do we include intermediary steps like bank account and public health insurance as separate milestones or does that make the game too long? 
'''
#Group Decisions 
'''
Can the player advance by pushing a button with their mouse rather than pushing enter?
What is the best way to move people to different segments of the gameplay map? For example, how does a player get stuck in an infinite loop of dice rolls? - see the session on flow 
have a website or distribute game as software? 
'''
#Other ideas - Charu 
'''
We can add some German words as a cute touch - Willkommen, Guten tag etc. 
Sprinkle some 'Did you know?' factoids throughout the game
How can we present text slightly fancier (e.g. ASCII art), title or font pages, or add pictures, if not GUI? 
Charu tasks:Germany documents for Indians + Game research of 2 games recommended + Look at Pygame
Week 2 solutions 
Create a system where 1 player can see how the other players are progressing 
When we switch to multiple players, a player's country could be randomly assigned. Then we may have to nest throughout, with an if P1 = India, then...This would be tedious
We could allow the players to have lives? 
Randomize which type of officer a player gets, pick some german names and give them personalities   
Add some easter eggs
'''